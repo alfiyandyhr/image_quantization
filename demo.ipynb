{
 "cells": [
  {
   "cell_type": "code",
   "execution_count": 1,
   "id": "adjustable-hearts",
   "metadata": {},
   "outputs": [],
   "source": [
    "from matplotlib.image import imread\n",
    "import matplotlib.pyplot as plt\n",
    "from kmeans import KMeans\n",
    "import torch"
   ]
  },
  {
   "cell_type": "code",
   "execution_count": 2,
   "id": "seasonal-catalyst",
   "metadata": {},
   "outputs": [
    {
     "name": "stderr",
     "output_type": "stream",
     "text": [
      "<ipython-input-2-048b52ad09b8>:3: UserWarning: The given NumPy array is not writeable, and PyTorch does not support non-writeable tensors. This means you can write to the underlying (supposedly non-writeable) NumPy array using the tensor. You may want to copy the array to protect its data or make it writeable before converting it to a tensor. This type of warning will be suppressed for the rest of this program. (Triggered internally at  ..\\torch\\csrc\\utils\\tensor_numpy.cpp:141.)\n",
      "  X_t = torch.from_numpy(X).float()\n"
     ]
    }
   ],
   "source": [
    "image = imread('images/IMG_0015.jpg')\n",
    "X = image.reshape(-1, 3)\n",
    "X_t = torch.from_numpy(X).float()"
   ]
  },
  {
   "cell_type": "code",
   "execution_count": 9,
   "id": "private-foster",
   "metadata": {},
   "outputs": [
    {
     "name": "stdout",
     "output_type": "stream",
     "text": [
      "labeling done\n",
      "new image array created\n",
      "new image array reshaped\n"
     ]
    }
   ],
   "source": [
    "kmeans = KMeans(n_clusters=2)\n",
    "labels = kmeans.fit_predict(X_t)\n",
    "print(\"labeling done\")\n",
    "segmented_img = kmeans.centroids[labels]\n",
    "print('new image array created')\n",
    "segmented_img = segmented_img.view(image.shape)\n",
    "print('new image array reshaped')"
   ]
  },
  {
   "cell_type": "code",
   "execution_count": 10,
   "id": "italian-least",
   "metadata": {},
   "outputs": [],
   "source": [
    "new_img = segmented_img.numpy()"
   ]
  },
  {
   "cell_type": "code",
   "execution_count": 11,
   "id": "ultimate-crash",
   "metadata": {},
   "outputs": [],
   "source": [
    "plt.imsave('images/2.jpg',new_img.astype('uint8'))"
   ]
  }
 ],
 "metadata": {
  "kernelspec": {
   "display_name": "Python 3",
   "language": "python",
   "name": "python3"
  },
  "language_info": {
   "codemirror_mode": {
    "name": "ipython",
    "version": 3
   },
   "file_extension": ".py",
   "mimetype": "text/x-python",
   "name": "python",
   "nbconvert_exporter": "python",
   "pygments_lexer": "ipython3",
   "version": "3.9.1"
  }
 },
 "nbformat": 4,
 "nbformat_minor": 5
}
